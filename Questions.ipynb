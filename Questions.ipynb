{
  "nbformat": 4,
  "nbformat_minor": 0,
  "metadata": {
    "colab": {
      "provenance": []
    },
    "kernelspec": {
      "name": "python3",
      "display_name": "Python 3"
    },
    "language_info": {
      "name": "python"
    }
  },
  "cells": [
    {
      "cell_type": "code",
      "execution_count": 60,
      "metadata": {
        "id": "RTD97jHogjNJ"
      },
      "outputs": [],
      "source": [
        "import xml.etree.ElementTree as ET\n",
        "import nltk\n",
        "from nltk.tokenize import word_tokenize\n",
        "from nltk.corpus import stopwords\n",
        "import requests"
      ]
    },
    {
      "cell_type": "code",
      "source": [
        "# Initialisation de NLTK (à faire une fois)\n",
        "nltk.download('punkt')\n",
        "nltk.download('stopwords')\n"
      ],
      "metadata": {
        "colab": {
          "base_uri": "https://localhost:8080/"
        },
        "id": "fv3LMZiEjvcC",
        "outputId": "ac2cd4e0-110a-46dd-e259-b9cbdbca0864"
      },
      "execution_count": 61,
      "outputs": [
        {
          "output_type": "stream",
          "name": "stderr",
          "text": [
            "[nltk_data] Downloading package punkt to /root/nltk_data...\n",
            "[nltk_data]   Package punkt is already up-to-date!\n",
            "[nltk_data] Downloading package stopwords to /root/nltk_data...\n",
            "[nltk_data]   Package stopwords is already up-to-date!\n"
          ]
        },
        {
          "output_type": "execute_result",
          "data": {
            "text/plain": [
              "True"
            ]
          },
          "metadata": {},
          "execution_count": 61
        }
      ]
    },
    {
      "cell_type": "code",
      "source": [
        "# Fonction pour charger et analyser le fichier XML des questions\n",
        "def charger_et_analyser_xml(chemin_fichier):\n",
        "    arbre = ET.parse(chemin_fichier)\n",
        "    return arbre.getroot()"
      ],
      "metadata": {
        "id": "ulqGSouTjy8-"
      },
      "execution_count": 62,
      "outputs": []
    },
    {
      "cell_type": "code",
      "source": [
        "# Fonction pour prétraiter le texte des questions\n",
        "def pretraiter_question(texte_question):\n",
        "    tokens = word_tokenize(texte_question)\n",
        "    mots_arret = set(stopwords.words('english'))\n",
        "    tokens_filtres = [token for token in tokens if token.lower() not in mots_arret]\n",
        "    return tokens_filtres"
      ],
      "metadata": {
        "id": "CAX1KfWBj2kZ"
      },
      "execution_count": 63,
      "outputs": []
    },
    {
      "cell_type": "code",
      "source": [
        "# Fonction pour exécuter une requête SPARQL\n",
        "def executer_requete_sparql(requete_sparql):\n",
        "    url_endpoint = \"https://dbpedia.org/sparql\"\n",
        "    try:\n",
        "        reponse = requests.get(url_endpoint, params={'query': requete_sparql, 'format': 'json'})\n",
        "        reponse.raise_for_status()  # Lève une exception pour les codes d'état HTTP 4XX/5XX\n",
        "        resultats = reponse.json().get('results', {}).get('bindings', [])\n",
        "        return resultats\n",
        "    except requests.exceptions.RequestException as e:\n",
        "        print(f\"Erreur de requête SPARQL: {e}\")\n",
        "        return []  # Retourne une liste vide en cas d'erreur"
      ],
      "metadata": {
        "id": "Id317h4Qj5xy"
      },
      "execution_count": 64,
      "outputs": []
    },
    {
      "cell_type": "code",
      "source": [
        "# Fonction pour extraire les questions et les réponses du fichier XML\n",
        "def extraire_questions(racine):\n",
        "    liste_questions = []\n",
        "    for question in racine.findall('.//question'):\n",
        "        texte_element = question.find('.//string[@lang=\"en\"]')\n",
        "        texte_question = texte_element.text if texte_element is not None else \"Question manquante\"\n",
        "        requete_element = question.find('.//query')\n",
        "        requete = requete_element.text.strip() if requete_element is not None else \"\"\n",
        "        reponses = [rep.text for rep in question.findall('.//answers/answer/uri') if rep.text is not None]\n",
        "        liste_questions.append({'texte_question': texte_question, 'requete': requete, 'reponses': reponses})\n",
        "    return liste_questions"
      ],
      "metadata": {
        "id": "iCxeoerQkARk"
      },
      "execution_count": 65,
      "outputs": []
    },
    {
      "cell_type": "code",
      "source": [
        "# Fonction pour évaluer le modèle\n",
        "def evaluer_modele(questions, executer_requete_sparql):\n",
        "    nombre_total_questions = len(questions)\n",
        "    reponses_correctes = 0\n",
        "    total_reponses_predites = 0\n",
        "    total_reponses_correctes = sum(len(q['reponses']) for q in questions)\n",
        "\n",
        "    for question in questions:\n",
        "        resultats_predits = executer_requete_sparql(question['requete'])\n",
        "        uris_predits = [resultat['uri']['value'] for resultat in resultats_predits if 'uri' in resultat]\n",
        "        total_reponses_predites += len(uris_predits)\n",
        "\n",
        "        uris_corrects = question['reponses']\n",
        "        reponses_correctes += sum(1 for uri in uris_predits if uri in uris_corrects)\n",
        "\n",
        "    precision = reponses_correctes / total_reponses_predites if total_reponses_predites else 0\n",
        "    rappel = reponses_correctes / total_reponses_correctes if total_reponses_correctes else 0\n",
        "    mesure_f = 2 * (precision * rappel) / (precision + rappel) if (precision + rappel) else 0\n",
        "\n",
        "    return precision, rappel, mesure_f"
      ],
      "metadata": {
        "id": "B9twxYg2kCk9"
      },
      "execution_count": 67,
      "outputs": []
    },
    {
      "cell_type": "code",
      "source": [
        "# Chemin vers votre fichier questions.xml (ajustez selon votre environnement)\n",
        "chemin_fichier = 'questions.xml'"
      ],
      "metadata": {
        "id": "_r-cQBQIAqUd"
      },
      "execution_count": 68,
      "outputs": []
    },
    {
      "cell_type": "code",
      "source": [
        "# Charger et analyser le fichier XML\n",
        "racine = charger_et_analyser_xml('./questions.xml')"
      ],
      "metadata": {
        "id": "wlZchJqJkUPl"
      },
      "execution_count": 69,
      "outputs": []
    },
    {
      "cell_type": "code",
      "source": [
        "# Extraire les questions du fichier XML\n",
        "questions = extraire_questions(racine)"
      ],
      "metadata": {
        "id": "5mGWnI3gA86J"
      },
      "execution_count": 70,
      "outputs": []
    },
    {
      "cell_type": "code",
      "source": [
        "# Afficher les questions extraites\n",
        "for i, question in enumerate(questions, start=1):\n",
        "    print(f\"Question {i}: {question['texte_question']}\")\n",
        "    print(f\"Requête: {question['requete']}\")\n",
        "    print(f\"Réponses: {question['reponses']}\")\n",
        "    print()"
      ],
      "metadata": {
        "colab": {
          "base_uri": "https://localhost:8080/"
        },
        "id": "YGM4aO9SkkS4",
        "outputId": "010edf54-a681-4daf-c75c-fbc0b52203ae"
      },
      "execution_count": 71,
      "outputs": [
        {
          "output_type": "stream",
          "name": "stdout",
          "text": [
            "Question 1: Which river does the Brooklyn Bridge cross?\n",
            "Requête: PREFIX dbo: <http://dbpedia.org/ontology/> PREFIX res: <http://dbpedia.org/resource/> SELECT DISTINCT ?uri WHERE { res:Brooklyn_Bridge dbo:crosses ?uri . }\n",
            "Réponses: ['http://dbpedia.org/resource/East_River']\n",
            "\n",
            "Question 2: Who is the author of Wikipedia?\n",
            "Requête: PREFIX dbo: <http://dbpedia.org/ontology/>\n",
            "PREFIX res: <http://dbpedia.org/resource/>\n",
            "SELECT DISTINCT ?uri\n",
            "WHERE {\n",
            "\tres:Wikipedia dbp:authors ?uri .\n",
            "}\n",
            "Réponses: ['http://dbpedia.org/resource/Jimmy_Wales', 'http://dbpedia.org/resource/Larry_Sanger']\n",
            "\n",
            "Question 3: In which country does the Nile start?\n",
            "Requête: PREFIX dbo: <http://dbpedia.org/ontology/>\n",
            "PREFIX res: <http://dbpedia.org/resource/>\n",
            "SELECT DISTINCT ?uri\n",
            "WHERE {       \n",
            "        res:Nile dbp:source2Location ?uri .\n",
            "}\n",
            "Réponses: ['http://dbpedia.org/resource/Ethiopia', 'http://dbpedia.org/resource/Lake_Tana']\n",
            "\n",
            "Question 4: What is the highest place of Karakoram?\n",
            "Requête: PREFIX dbo: <http://dbpedia.org/ontology/>\n",
            "PREFIX res: <http://dbpedia.org/resource/>\n",
            "SELECT DISTINCT ?uri\n",
            "WHERE {       \n",
            "        res:Karakoram dbo:highest ?uri .  \n",
            "}\n",
            "Réponses: ['http://dbpedia.org/resource/K2']\n",
            "\n",
            "Question 5: Who designed the Brooklyn Bridge?\n",
            "Requête: PREFIX res: <http://dbpedia.org/resource/>\n",
            "PREFIX dbp: <http://dbpedia.org/property/>\n",
            "SELECT DISTINCT ?uri \n",
            "WHERE {\n",
            "        res:Brooklyn_Bridge dbp:designer ?uri .\n",
            "}\n",
            "Réponses: ['http://dbpedia.org/resource/John_Augustus_Roebling']\n",
            "\n",
            "Question 6: Who created Goofy?\n",
            "Requête: PREFIX dbo: <http://dbpedia.org/ontology/>\n",
            "PREFIX res: <http://dbpedia.org/resource/>\n",
            "SELECT DISTINCT ?uri\n",
            "WHERE {\n",
            "        res:Goofy dbo:creator ?uri .\n",
            "}\n",
            "Réponses: ['http://dbpedia.org/resource/The_Walt_Disney_Company', 'http://dbpedia.org/resource/Bob_Ogle', 'http://dbpedia.org/resource/Paul_Murry']\n",
            "\n",
            "Question 7: Who is the mayor of New York City?\n",
            "Requête: PREFIX dbo: <http://dbpedia.org/ontology/>\n",
            "PREFIX res: <http://dbpedia.org/resource/>\n",
            "SELECT DISTINCT ?uri\n",
            "WHERE { \n",
            "        res:New_York_City dbp:leaderName ?uri .\n",
            "}\n",
            "Réponses: ['\"Eric Adams\"@en']\n",
            "\n",
            "Question 8: Which is the source of the Yenisey river\n",
            "Requête: PREFIX res: <http://dbpedia.org/resource/>\n",
            "PREFIX dbp: <http://dbpedia.org/property/>\n",
            "SELECT DISTINCT ?uri \n",
            "WHERE {\n",
            "        res:Yenisey dbp:source ?uri .\n",
            "}\n",
            "Réponses: ['http://dbpedia.org/resource/Ka-Hem']\n",
            "\n",
            "Question 9: Which museum exhibits The Scream by Munch?\n",
            "Requête: PREFIX dbp: <http://dbpedia.org/property/>\n",
            "PREFIX res: <http://dbpedia.org/resource/>\n",
            "SELECT DISTINCT ?uri\n",
            "WHERE {\n",
            "\tres:The_Scream dbp:museum ?uri .\n",
            "}\n",
            "Réponses: ['\"National Gallery and Munch Museum\"@en']\n",
            "\n",
            "Question 10: Which states border Illinois?\n",
            "Requête: PREFIX res: <http://dbpedia.org/resource/>\n",
            "PREFIX dbp: <http://dbpedia.org/property/>\n",
            "SELECT DISTINCT ?uri \n",
            "WHERE {\n",
            "      res:Illinois dbp:borderingstates ?uri .\n",
            "}\n",
            "Réponses: ['http://dbpedia.org/resource/Kentucky', 'http://dbpedia.org/resource/Missouri', 'http://dbpedia.org/resource/Wisconsin', 'http://dbpedia.org/resource/Indiana', 'http://dbpedia.org/resource/Iowa']\n",
            "\n",
            "Question 11: Who was the wife of U.S. president Lincoln?\n",
            "Requête: PREFIX dbo: <http://dbpedia.org/ontology/>\n",
            "PREFIX res: <http://dbpedia.org/resource/>\n",
            "SELECT DISTINCT ?uri \n",
            "WHERE {\n",
            "\tres:Abraham_Lincoln dbo:spouse ?uri.\n",
            "}\n",
            "Réponses: ['http://dbpedia.org/resource/Mary_Todd_Lincoln']\n",
            "\n",
            "Question 12: In which programming language is GIMP written?\n",
            "Requête: PREFIX dbo: <http://dbpedia.org/ontology/>\n",
            "PREFIX res: <http://dbpedia.org/resource/>\n",
            "SELECT DISTINCT ?uri \n",
            "WHERE { \n",
            "\tres:GIMP dbo:programmingLanguage ?uri .\n",
            "}\n",
            "Réponses: ['http://dbpedia.org/resource/C_(programming_language)']\n",
            "\n",
            "Question 13: In which country is the Limerick Lake?\n",
            "Requête: PREFIX dbo: <http://dbpedia.org/ontology/>\n",
            "PREFIX res: <http://dbpedia.org/resource/>\n",
            "SELECT DISTINCT ?uri \n",
            "WHERE { \n",
            "\tres:Limerick_Lake dbo:country ?uri .\n",
            "}\n",
            "Réponses: ['http://dbpedia.org/resource/Canada']\n",
            "\n",
            "Question 14: What is the currency of the Czech Republic?\n",
            "Requête: PREFIX dbo: <http://dbpedia.org/ontology/>\n",
            "PREFIX res: <http://dbpedia.org/resource/>\n",
            "SELECT DISTINCT ?uri\n",
            "WHERE {\n",
            "\tres:Czech_Republic dbo:currency ?uri .\n",
            "}\n",
            "Réponses: ['http://dbpedia.org/resource/Czech_koruna']\n",
            "\n",
            "Question 15: Who developed the video game World of Warcraft?\n",
            "Requête: PREFIX dbo: <http://dbpedia.org/ontology/>\n",
            "PREFIX res: <http://dbpedia.org/resource/>\n",
            "SELECT DISTINCT ?uri \n",
            "WHERE {\n",
            "\tres:World_of_Warcraft dbo:developer ?uri . \n",
            "}\n",
            "Réponses: ['http://dbpedia.org/resource/Blizzard_Entertainment']\n",
            "\n",
            "Question 16: Who founded Aldi?\n",
            "Requête: PREFIX res: <http://dbpedia.org/resource/>\n",
            "PREFIX dbo: <http://dbpedia.org/ontology/>\n",
            "SELECT DISTINCT ?uri\n",
            "WHERE {\n",
            "\tres:Aldi dbo:foundedBy ?uri .\n",
            "}\n",
            "Réponses: ['http://dbpedia.org/resource/Karl_Albrecht', 'http://dbpedia.org/resource/Theo_Albrecht']\n",
            "\n",
            "Question 17: How many employees does IBM have?\n",
            "Requête: PREFIX dbo: <http://dbpedia.org/ontology/>\n",
            "PREFIX res: <http://dbpedia.org/resource/>\n",
            "SELECT DISTINCT ?number \n",
            "WHERE {\n",
            "\tres:IBM dbo:numberOfEmployees ?number .\n",
            "}\n",
            "Réponses: []\n",
            "\n",
            "Question 18: What is the area code of Berlin?\n",
            "Requête: PREFIX dbo: <http://dbpedia.org/ontology/>\n",
            "PREFIX res: <http://dbpedia.org/resource/>\n",
            "SELECT DISTINCT ?string \n",
            "WHERE {\n",
            "\tres:Berlin dbo:areaCode ?string .\n",
            "}\n",
            "Réponses: []\n",
            "\n",
            "Question 19: When was the Battle of Gettysburg?\n",
            "Requête: PREFIX dbo: <http://dbpedia.org/ontology/>\n",
            "PREFIX res: <http://dbpedia.org/resource/>\n",
            "SELECT DISTINCT ?date \n",
            "WHERE { \n",
            "       res:Battle_of_Gettysburg dbp:date ?date .\n",
            "}\n",
            "Réponses: []\n",
            "\n",
            "Question 20: What is the official languages of Italy?\n",
            "Requête: PREFIX dbo: <http://dbpedia.org/ontology/>\n",
            "PREFIX res: <http://dbpedia.org/resource/>\n",
            "SELECT DISTINCT ?uri\n",
            "WHERE { \n",
            "        res:Italy dbo:officialLanguage ?uri .\n",
            "}\n",
            "Réponses: ['http://dbpedia.org/resource/Italian_language']\n",
            "\n",
            "Question 21: Who wrote the book The Pillars of the Earth?\n",
            "Requête: PREFIX dbo: <http://dbpedia.org/ontology/>\n",
            "PREFIX res: <http://dbpedia.org/resource/>\n",
            "SELECT DISTINCT ?uri \n",
            "WHERE {\n",
            "\tres:The_Pillars_of_the_Earth dbo:author ?uri .\n",
            "}\n",
            "Réponses: []\n",
            "\n",
            "Question 22: Who is the author of the WikiLeaks association?\n",
            "Requête: PREFIX res: <http://dbpedia.org/resource/>\n",
            "PREFIX dbp: <http://dbpedia.org/property/>\n",
            "SELECT DISTINCT ?uri\n",
            "WHERE {\n",
            "        res:WikiLeaks dbo:author ?uri .\n",
            "}\n",
            "Réponses: ['http://dbpedia.org/resource/Julian_Assange']\n",
            "\n",
            "Question 23: Give me all actors starring in Last Action Hero.\n",
            "Requête: PREFIX dbp: <http://dbpedia.org/property/>\n",
            "PREFIX res: <http://dbpedia.org/resource/>\n",
            "SELECT DISTINCT ?uri \n",
            "WHERE {\n",
            "\tres:Last_Action_Hero dbo:starring ?uri .\n",
            "}\n",
            "Réponses: ['http://dbpedia.org/resource/F._Murray_Abraham', 'http://dbpedia.org/resource/Tom_Noonan', 'http://dbpedia.org/resource/Mercedes_Ruehl', 'http://dbpedia.org/resource/Frank_McRae', 'http://dbpedia.org/resource/Robert_Prosky', 'http://dbpedia.org/resource/Anthony_Quinn', 'http://dbpedia.org/resource/Arnold_Schwarzenegger', 'http://dbpedia.org/resource/Art_Carney', \"http://dbpedia.org/resource/Austin_O'Brien\", 'http://dbpedia.org/resource/Charles_Dance']\n",
            "\n",
            "Question 24: Who is the owner of Universal Studios Lot?\n",
            "Requête: PREFIX dbo: <http://dbpedia.org/ontology/>\n",
            "PREFIX res: <http://dbpedia.org/resource/>\n",
            "SELECT DISTINCT ?uri\n",
            "WHERE {\n",
            "\tres:Universal_Studios_Lot dbo:owner ?uri .\n",
            "}\n",
            "Réponses: ['http://dbpedia.org/resource/Comcast', 'http://dbpedia.org/resource/Universal_Pictures', 'http://dbpedia.org/resource/NBCUniversal']\n",
            "\n",
            "Question 25: Where is Bruce Carver born?\n",
            "Requête: PREFIX res: <http://dbpedia.org/resource/>\n",
            "PREFIX dbo: <http://dbpedia.org/ontology/>\n",
            "SELECT DISTINCT ?uri\n",
            "WHERE {\n",
            "        res:Bruce_Carver dbo:birthPlace ?uri .     \n",
            "}\n",
            "Réponses: ['http://dbpedia.org/resource/Montpelier,_Idaho']\n",
            "\n"
          ]
        }
      ]
    },
    {
      "cell_type": "code",
      "source": [
        "# Évaluer le modèle\n",
        "precision, rappel, mesure_f = evaluer_modele(questions, executer_requete_sparql)"
      ],
      "metadata": {
        "id": "zgAbSva_kp1S"
      },
      "execution_count": 72,
      "outputs": []
    },
    {
      "cell_type": "code",
      "source": [
        "# Afficher les résultats de l'évaluation\n",
        "print(f\"Précision: {precision:.4f}\")\n",
        "print(f\"Rappel: {rappel:.4f}\")\n",
        "print(f\"Mesure F: {mesure_f:.4f}\")"
      ],
      "metadata": {
        "colab": {
          "base_uri": "https://localhost:8080/"
        },
        "id": "lmdTCnaCkxDA",
        "outputId": "77ca89cc-d195-4e58-e0ce-b30398f9535e"
      },
      "execution_count": 73,
      "outputs": [
        {
          "output_type": "stream",
          "name": "stdout",
          "text": [
            "Précision: 0.8837\n",
            "Rappel: 0.9268\n",
            "Mesure F: 0.9048\n"
          ]
        }
      ]
    }
  ]
}